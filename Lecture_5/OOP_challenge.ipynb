{
 "cells": [
  {
   "cell_type": "code",
   "execution_count": 1,
   "metadata": {},
   "outputs": [],
   "source": [
    "#Create a bank account"
   ]
  },
  {
   "cell_type": "code",
   "execution_count": 8,
   "metadata": {},
   "outputs": [],
   "source": [
    "class Account:\n",
    "    \n",
    "    def __init__(self,owner,balance):\n",
    "        self.owner = owner\n",
    "        self.balance = balance\n",
    "        \n",
    "        print(\"Account holder: \" + self.owner)\n",
    "        print(f\"Account balance: ${self.balance}\")\n",
    "        \n",
    "    def deposit(self,deposit_amount):\n",
    "        self.balance = self.balance+deposit_amount\n",
    "        print(f\"New balance ${self.balance} after deposit of ${deposit_amount}\")\n",
    "    \n",
    "    def withdraw(self,withdrawal_amount):\n",
    "        \n",
    "        if withdrawal_amount > self.balance:\n",
    "            print(\"withdrawal more than current balance\")\n",
    "            print(f\"current balance ${self.balance}\")\n",
    "        else:\n",
    "            self.balance = self.balance-withdrawal_amount\n",
    "            print(f\"New balance ${self.balance}\")"
   ]
  },
  {
   "cell_type": "code",
   "execution_count": 9,
   "metadata": {},
   "outputs": [
    {
     "name": "stdout",
     "output_type": "stream",
     "text": [
      "Account holder: Akhil\n",
      "Account balance: $153.2\n"
     ]
    }
   ],
   "source": [
    "pnc = Account('Akhil',153.20)"
   ]
  },
  {
   "cell_type": "code",
   "execution_count": 10,
   "metadata": {},
   "outputs": [
    {
     "name": "stdout",
     "output_type": "stream",
     "text": [
      "New balance $253.2 after deposit of $100\n"
     ]
    }
   ],
   "source": [
    "pnc.deposit(100)"
   ]
  },
  {
   "cell_type": "code",
   "execution_count": 11,
   "metadata": {},
   "outputs": [
    {
     "name": "stdout",
     "output_type": "stream",
     "text": [
      "New balance $153.2\n"
     ]
    }
   ],
   "source": [
    "pnc.withdraw(100)"
   ]
  },
  {
   "cell_type": "code",
   "execution_count": 12,
   "metadata": {},
   "outputs": [
    {
     "name": "stdout",
     "output_type": "stream",
     "text": [
      "withdrawal more than current balance\n",
      "current balance $153.2\n"
     ]
    }
   ],
   "source": [
    "pnc.withdraw(200)"
   ]
  },
  {
   "cell_type": "code",
   "execution_count": 13,
   "metadata": {},
   "outputs": [
    {
     "name": "stdout",
     "output_type": "stream",
     "text": [
      "New balance $0.19999999999998863\n"
     ]
    }
   ],
   "source": [
    "pnc.withdraw(153)"
   ]
  },
  {
   "cell_type": "code",
   "execution_count": 14,
   "metadata": {},
   "outputs": [
    {
     "name": "stdout",
     "output_type": "stream",
     "text": [
      "New balance $500.2 after deposit of $500\n"
     ]
    }
   ],
   "source": [
    "pnc.deposit(500)"
   ]
  },
  {
   "cell_type": "code",
   "execution_count": 15,
   "metadata": {},
   "outputs": [
    {
     "name": "stdout",
     "output_type": "stream",
     "text": [
      "New balance $350.0\n"
     ]
    }
   ],
   "source": [
    "pnc.withdraw(150.2)"
   ]
  },
  {
   "cell_type": "code",
   "execution_count": null,
   "metadata": {},
   "outputs": [],
   "source": []
  }
 ],
 "metadata": {
  "kernelspec": {
   "display_name": "Python 3",
   "language": "python",
   "name": "python3"
  },
  "language_info": {
   "codemirror_mode": {
    "name": "ipython",
    "version": 3
   },
   "file_extension": ".py",
   "mimetype": "text/x-python",
   "name": "python",
   "nbconvert_exporter": "python",
   "pygments_lexer": "ipython3",
   "version": "3.7.3"
  }
 },
 "nbformat": 4,
 "nbformat_minor": 2
}
