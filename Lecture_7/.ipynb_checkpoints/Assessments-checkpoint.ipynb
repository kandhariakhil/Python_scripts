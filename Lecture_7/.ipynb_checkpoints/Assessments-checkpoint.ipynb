{
 "cells": [
  {
   "cell_type": "code",
   "execution_count": 1,
   "metadata": {},
   "outputs": [],
   "source": [
    "#Coding challenge -> merge strings, elements present in tree, count duplicates, distinct pairs, fibonacci"
   ]
  },
  {
   "cell_type": "code",
   "execution_count": 46,
   "metadata": {},
   "outputs": [],
   "source": [
    "def mergestrings(a,b):\n",
    "        \n",
    "        newstring = ''\n",
    "        smaller_string = min(len(a),len(b))\n",
    "        \n",
    "        for num in range(0,smaller_string):\n",
    "            newstring += a[num]+b[num]\n",
    "            \n",
    "        if len(a)>len(b):\n",
    "            newstring = newstring+a[smaller_string:]\n",
    "        elif len(b)>len(a):\n",
    "            newstring = newstring+b[smaller_string:]\n",
    "        \n",
    "        return newstring"
   ]
  },
  {
   "cell_type": "code",
   "execution_count": 131,
   "metadata": {},
   "outputs": [],
   "source": [
    "def elementsintree(roots,vals):\n",
    "    \n",
    "    search_array = []\n",
    "    \n",
    "    \n",
    "    for number in vals:\n",
    "        count = 0\n",
    "        while(count<len(roots)):\n",
    "            if number == roots[count]:\n",
    "                search_array.append(1)\n",
    "                break\n",
    "            count += 1\n",
    "            \n",
    "        else:\n",
    "            search_array.append(0)\n",
    "        \n",
    "    return search_array"
   ]
  },
  {
   "cell_type": "code",
   "execution_count": 132,
   "metadata": {},
   "outputs": [],
   "source": [
    "def fibonacci(n):\n",
    "    \n",
    "    series = []\n",
    "    next_val = 0\n",
    "    if n<0:\n",
    "        print(\"Enter value greater than 0\")\n",
    "    elif n==1:\n",
    "        series.append(0)\n",
    "    elif n==2:\n",
    "        series.append([0,1])\n",
    "    else:\n",
    "        series = [0,1]\n",
    "        for n in range(2,n):\n",
    "            next_val = series[n-1]+series[n-2] \n",
    "            series.append(next_val)\n",
    "    \n",
    "    return series\n",
    "        "
   ]
  },
  {
   "cell_type": "code",
   "execution_count": 133,
   "metadata": {},
   "outputs": [
    {
     "data": {
      "text/plain": [
       "'adbef'"
      ]
     },
     "execution_count": 133,
     "metadata": {},
     "output_type": "execute_result"
    }
   ],
   "source": [
    "mergestrings('ab','def')"
   ]
  },
  {
   "cell_type": "code",
   "execution_count": 134,
   "metadata": {},
   "outputs": [
    {
     "data": {
      "text/plain": [
       "[1, 1, 0, 0]"
      ]
     },
     "execution_count": 134,
     "metadata": {},
     "output_type": "execute_result"
    }
   ],
   "source": [
    "elementsintree([1,2,3,4,5,6,7],[1,2,10,11])"
   ]
  },
  {
   "cell_type": "code",
   "execution_count": 83,
   "metadata": {},
   "outputs": [],
   "source": [
    "x = 1"
   ]
  },
  {
   "cell_type": "code",
   "execution_count": 84,
   "metadata": {},
   "outputs": [],
   "source": [
    "x += 1"
   ]
  },
  {
   "cell_type": "code",
   "execution_count": 85,
   "metadata": {},
   "outputs": [
    {
     "data": {
      "text/plain": [
       "2"
      ]
     },
     "execution_count": 85,
     "metadata": {},
     "output_type": "execute_result"
    }
   ],
   "source": [
    "x"
   ]
  },
  {
   "cell_type": "code",
   "execution_count": 162,
   "metadata": {},
   "outputs": [],
   "source": [
    "def countduplicates(array):\n",
    "    first = 0\n",
    "    second = 0\n",
    "    duplicate = 0\n",
    "    \n",
    "    while first<len(array):\n",
    "        for index in range(second,len(array)):\n",
    "            if array[first] == array[index]:\n",
    "                duplicate += 1\n",
    "            second += 1\n",
    "        first += 1\n",
    "        \n",
    "    return duplicate"
   ]
  },
  {
   "cell_type": "code",
   "execution_count": 163,
   "metadata": {},
   "outputs": [
    {
     "data": {
      "text/plain": [
       "2"
      ]
     },
     "execution_count": 163,
     "metadata": {},
     "output_type": "execute_result"
    }
   ],
   "source": [
    "countduplicates([1,1,2,2,3,4,5,5,6,5])"
   ]
  },
  {
   "cell_type": "code",
   "execution_count": null,
   "metadata": {},
   "outputs": [],
   "source": []
  }
 ],
 "metadata": {
  "kernelspec": {
   "display_name": "Python 3",
   "language": "python",
   "name": "python3"
  },
  "language_info": {
   "codemirror_mode": {
    "name": "ipython",
    "version": 3
   },
   "file_extension": ".py",
   "mimetype": "text/x-python",
   "name": "python",
   "nbconvert_exporter": "python",
   "pygments_lexer": "ipython3",
   "version": "3.7.3"
  }
 },
 "nbformat": 4,
 "nbformat_minor": 2
}
